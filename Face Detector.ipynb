{
 "cells": [
  {
   "cell_type": "code",
   "execution_count": null,
   "id": "d0b5adbf",
   "metadata": {},
   "outputs": [],
   "source": [
    "pip install deepface\n",
    "pip install opencv-python"
   ]
  },
  {
   "cell_type": "code",
   "execution_count": null,
   "id": "24b05bc4",
   "metadata": {},
   "outputs": [],
   "source": [
    "from deepface import DeepFace\n",
    "import cv2"
   ]
  },
  {
   "cell_type": "code",
   "execution_count": null,
   "id": "1a72dcdf",
   "metadata": {},
   "outputs": [],
   "source": [
    "# Setup video \n",
    "cap = cv2.VideoCapture(0, cv2.CAP_DSHOW)\n",
    "cap.set(cv2.CAP_PROP_FRAME_WIDTH, 640)\n",
    "cap.set(cv2.CAP_PROP_FRAME_HEIGHT, 480)\n"
   ]
  },
  {
   "cell_type": "code",
   "execution_count": null,
   "id": "4163eefa",
   "metadata": {},
   "outputs": [],
   "source": [
    "# Identify which people are present in a specific frame \n",
    "\n",
    "def check_face(frame):\n",
    "    \n",
    "    # Compare all faces with those in the database \n",
    "    faces = DeepFace.find(frame, \"database\") \n",
    "    \n",
    "    if not faces:\n",
    "        return set()\n",
    "    \n",
    "    names = set() # Names of all people present \n",
    "    \n",
    "    # Find the closest matching individual for each face \n",
    "    for face in faces:\n",
    "        \n",
    "        matches = face['identity']\n",
    "        print(matches)\n",
    "        counter = {}\n",
    "        counter[\"Unknown\"] = 1\n",
    "        \n",
    "        for i in range(len(matches)):\n",
    "            parts = matches[i].split('\\\\')\n",
    "            name = parts[1]\n",
    "            counter[name] = counter.get(name, 0) + 1\n",
    "        \n",
    "        print(counter)\n",
    "        names.add(max(counter.keys(), key = lambda x: counter[x]))\n",
    "    \n",
    "    return list(names)                           \n",
    "            "
   ]
  },
  {
   "cell_type": "code",
   "execution_count": null,
   "id": "a7321b96",
   "metadata": {},
   "outputs": [],
   "source": [
    "while True:\n",
    "    ret, frame = cap.read()  # Capture photo \n",
    "    \n",
    "    # Find all faces for this photo \n",
    "    if ret:\n",
    "        try: \n",
    "            people = check_face(frame)\n",
    "        except:\n",
    "            people = ['No faces']\n",
    "    \n",
    "    # Select corresponding output for sentence \n",
    "    output = \"\"\n",
    "    \n",
    "    if len(people) == 0:\n",
    "        output = 'Nobody'\n",
    "    elif len(people) == 1:\n",
    "        output = people[0]\n",
    "    else:\n",
    "        for i in range(len(people) - 1):\n",
    "            output += people[i] + ', '\n",
    "        output += \"and \" + people[-1]\n",
    "    \n",
    "    \n",
    "    cv2.putText(frame, output + ' found!', (20, 450), cv2.FONT_HERSHEY_SIMPLEX, 2, (0, 255, 0), 3)\n",
    "        \n",
    "    cv2.imshow(\"video\", frame)\n",
    "        \n",
    "    key = cv2.waitKey(1)\n",
    "    if key == ord('q'):\n",
    "        break \n",
    "\n",
    "cv2.destroyAllWindows()"
   ]
  },
  {
   "cell_type": "code",
   "execution_count": null,
   "id": "77928d2e",
   "metadata": {},
   "outputs": [],
   "source": []
  }
 ],
 "metadata": {
  "kernelspec": {
   "display_name": "Python 3 (ipykernel)",
   "language": "python",
   "name": "python3"
  },
  "language_info": {
   "codemirror_mode": {
    "name": "ipython",
    "version": 3
   },
   "file_extension": ".py",
   "mimetype": "text/x-python",
   "name": "python",
   "nbconvert_exporter": "python",
   "pygments_lexer": "ipython3",
   "version": "3.11.4"
  }
 },
 "nbformat": 4,
 "nbformat_minor": 5
}
